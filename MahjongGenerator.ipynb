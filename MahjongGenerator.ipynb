{
 "cells": [
  {
   "cell_type": "code",
   "execution_count": 1,
   "metadata": {},
   "outputs": [],
   "source": [
    "import os\n",
    "import numpy as np"
   ]
  },
  {
   "attachments": {},
   "cell_type": "markdown",
   "metadata": {},
   "source": [
    "## $\\LaTeX$ generator"
   ]
  },
  {
   "cell_type": "code",
   "execution_count": 2,
   "metadata": {},
   "outputs": [],
   "source": [
    "a='3.4cm'\n",
    "b='1s'"
   ]
  },
  {
   "cell_type": "code",
   "execution_count": null,
   "metadata": {},
   "outputs": [],
   "source": [
    "with open('LaTeX/Mahjong.tex','w') as file:\n",
    "    file.write(r'\\documentclass[convert={density=300, outext=.png}]{standalone}'+'\\n')\n",
    "    file.write(r'\\usepackage{tikz}'+'\\n')\n",
    "    file.write(r'\\usepackage{mahjong}'+'\\n')\n",
    "    file.write(r'\\begin{document}'+'\\n')\n",
    "    file.write(r'\\begin{tikzpicture}'+'\\n')\n",
    "    file.write(r'\\draw (0,0) node {\\mahjong[%s]{%s}};'%(a,b)+'\\n')\n",
    "    file.write(r'\\end{tikzpicture}'+'\\n')\n",
    "    file.write(r'\\end{document}')"
   ]
  },
  {
   "cell_type": "code",
   "execution_count": null,
   "metadata": {},
   "outputs": [],
   "source": [
    "MAHJONG_ASCII = [n for n in range(48,58)] + [115, 112, 109, 122]"
   ]
  },
  {
   "cell_type": "code",
   "execution_count": null,
   "metadata": {},
   "outputs": [
    {
     "data": {
      "text/plain": [
       "True"
      ]
     },
     "execution_count": 6,
     "metadata": {},
     "output_type": "execute_result"
    }
   ],
   "source": [
    "np.all([ord(s) in MAHJONG_ASCII for s in 'mahjong 123s456p789s'[8:]])"
   ]
  },
  {
   "cell_type": "code",
   "execution_count": 10,
   "metadata": {},
   "outputs": [
    {
     "name": "stdout",
     "output_type": "stream",
     "text": [
      "This is XeTeX, Version 3.141592653-2.6-0.999993 (MiKTeX 22.1) (preloaded format=xelatex.fmt)\n",
      " restricted \\write18 enabled.\n",
      "entering extended mode\n",
      "(LaTeX/Mahjong.tex\n",
      "LaTeX2e <2022-11-01> patch level 1\n",
      "L3 programming layer <2023-02-02>\n",
      "(/Users/suzutsuki-ch/Library/Application Support/MiKTeX/texmfs/install/tex/late\n",
      "x/standalone/standalone.cls\n",
      "Document Class: standalone 2022/10/10 v1.3b Class to compile TeX sub-files stan\n",
      "dalone\n",
      "\n",
      "(/Users/suzutsuki-ch/Library/Application Support/MiKTeX/texmfs/install/tex/late\n",
      "x/tools/shellesc.sty)\n",
      "(/Users/suzutsuki-ch/Library/Application Support/MiKTeX/texmfs/install/tex/gene\n",
      "ric/iftex/ifluatex.sty\n",
      "(/Users/suzutsuki-ch/Library/Application Support/MiKTeX/texmfs/install/tex/gene\n",
      "ric/iftex/iftex.sty))\n",
      "(/Users/suzutsuki-ch/Library/Application Support/MiKTeX/texmfs/install/tex/late\n",
      "x/xkeyval/xkeyval.sty\n",
      "(/Users/suzutsuki-ch/Library/Application Support/MiKTeX/texmfs/install/tex/gene\n",
      "ric/xkeyval/xkeyval.tex\n",
      "(/Users/suzutsuki-ch/Library/Application Support/MiKTeX/texmfs/install/tex/gene\n",
      "ric/xkeyval/xkvutils.tex\n",
      "(/Users/suzutsuki-ch/Library/Application Support/MiKTeX/texmfs/install/tex/gene\n",
      "ric/xkeyval/keyval.tex))))\n",
      "(/Users/suzutsuki-ch/Library/Application Support/MiKTeX/texmfs/install/tex/late\n",
      "x/standalone/standalone.cfg)\n",
      "(/Users/suzutsuki-ch/Library/Application Support/MiKTeX/texmfs/install/tex/late\n",
      "x/base/article.cls\n",
      "Document Class: article 2022/07/02 v1.4n Standard LaTeX document class\n",
      "\n",
      "(/Users/suzutsuki-ch/Library/Application Support/MiKTeX/texmfs/install/tex/late\n",
      "x/base/size10.clo))\n",
      "Executing command:\n",
      "convert -density 300 -units PixelsPerInch Mahjong.pdf  -quality 90 Mahjong.png\n",
      "\n",
      "\n",
      "Class standalone Warning: Conversion failed! Please ensure that shell escape\n",
      "(standalone)              is enabled (e.g. use '-shell-escape').\n",
      "\n",
      ")\n",
      "(/Users/suzutsuki-ch/Library/Application Support/MiKTeX/texmfs/install/tex/late\n",
      "x/pgf/frontendlayer/tikz.sty\n",
      "(/Users/suzutsuki-ch/Library/Application Support/MiKTeX/texmfs/install/tex/late\n",
      "x/pgf/basiclayer/pgf.sty\n",
      "(/Users/suzutsuki-ch/Library/Application Support/MiKTeX/texmfs/install/tex/late\n",
      "x/pgf/utilities/pgfrcs.sty\n",
      "(/Users/suzutsuki-ch/Library/Application Support/MiKTeX/texmfs/install/tex/gene\n",
      "ric/pgf/utilities/pgfutil-common.tex)\n",
      "(/Users/suzutsuki-ch/Library/Application Support/MiKTeX/texmfs/install/tex/gene\n",
      "ric/pgf/utilities/pgfutil-latex.def)\n",
      "(/Users/suzutsuki-ch/Library/Application Support/MiKTeX/texmfs/install/tex/gene\n",
      "ric/pgf/utilities/pgfrcs.code.tex\n",
      "(/Users/suzutsuki-ch/Library/Application Support/MiKTeX/texmfs/install/tex/gene\n",
      "ric/pgf/pgf.revision.tex)))\n",
      "(/Users/suzutsuki-ch/Library/Application Support/MiKTeX/texmfs/install/tex/late\n",
      "x/pgf/basiclayer/pgfcore.sty\n",
      "(/Users/suzutsuki-ch/Library/Application Support/MiKTeX/texmfs/install/tex/late\n",
      "x/graphics/graphicx.sty\n",
      "(/Users/suzutsuki-ch/Library/Application Support/MiKTeX/texmfs/install/tex/late\n",
      "x/graphics/graphics.sty\n",
      "(/Users/suzutsuki-ch/Library/Application Support/MiKTeX/texmfs/install/tex/late\n",
      "x/graphics/trig.sty)\n",
      "(/Users/suzutsuki-ch/Library/Application Support/MiKTeX/texmfs/install/tex/late\n",
      "x/graphics-cfg/graphics.cfg)\n",
      "(/Users/suzutsuki-ch/Library/Application Support/MiKTeX/texmfs/install/tex/late\n",
      "x/graphics-def/xetex.def)))\n",
      "(/Users/suzutsuki-ch/Library/Application Support/MiKTeX/texmfs/install/tex/late\n",
      "x/pgf/systemlayer/pgfsys.sty\n",
      "(/Users/suzutsuki-ch/Library/Application Support/MiKTeX/texmfs/install/tex/gene\n",
      "ric/pgf/systemlayer/pgfsys.code.tex\n",
      "(/Users/suzutsuki-ch/Library/Application Support/MiKTeX/texmfs/install/tex/gene\n",
      "ric/pgf/utilities/pgfkeys.code.tex\n",
      "(/Users/suzutsuki-ch/Library/Application Support/MiKTeX/texmfs/install/tex/gene\n",
      "ric/pgf/utilities/pgfkeyslibraryfiltered.code.tex))\n",
      "(/Users/suzutsuki-ch/Library/Application Support/MiKTeX/texmfs/install/tex/gene\n",
      "ric/pgf/systemlayer/pgf.cfg)\n",
      "(/Users/suzutsuki-ch/Library/Application Support/MiKTeX/texmfs/install/tex/gene\n",
      "ric/pgf/systemlayer/pgfsys-xetex.def\n",
      "(/Users/suzutsuki-ch/Library/Application Support/MiKTeX/texmfs/install/tex/gene\n",
      "ric/pgf/systemlayer/pgfsys-dvipdfmx.def\n",
      "(/Users/suzutsuki-ch/Library/Application Support/MiKTeX/texmfs/install/tex/gene\n",
      "ric/pgf/systemlayer/pgfsys-common-pdf.def))))\n",
      "(/Users/suzutsuki-ch/Library/Application Support/MiKTeX/texmfs/install/tex/gene\n",
      "ric/pgf/systemlayer/pgfsyssoftpath.code.tex)\n",
      "(/Users/suzutsuki-ch/Library/Application Support/MiKTeX/texmfs/install/tex/gene\n",
      "ric/pgf/systemlayer/pgfsysprotocol.code.tex))\n",
      "(/Users/suzutsuki-ch/Library/Application Support/MiKTeX/texmfs/install/tex/late\n",
      "x/xcolor/xcolor.sty\n",
      "(/Users/suzutsuki-ch/Library/Application Support/MiKTeX/texmfs/install/tex/late\n",
      "x/graphics-cfg/color.cfg)\n",
      "(/Users/suzutsuki-ch/Library/Application Support/MiKTeX/texmfs/install/tex/late\n",
      "x/graphics/mathcolor.ltx))\n",
      "(/Users/suzutsuki-ch/Library/Application Support/MiKTeX/texmfs/install/tex/gene\n",
      "ric/pgf/basiclayer/pgfcore.code.tex\n",
      "(/Users/suzutsuki-ch/Library/Application Support/MiKTeX/texmfs/install/tex/gene\n",
      "ric/pgf/math/pgfmath.code.tex\n",
      "(/Users/suzutsuki-ch/Library/Application Support/MiKTeX/texmfs/install/tex/gene\n",
      "ric/pgf/math/pgfmathutil.code.tex)\n",
      "(/Users/suzutsuki-ch/Library/Application Support/MiKTeX/texmfs/install/tex/gene\n",
      "ric/pgf/math/pgfmathparser.code.tex)\n",
      "(/Users/suzutsuki-ch/Library/Application Support/MiKTeX/texmfs/install/tex/gene\n",
      "ric/pgf/math/pgfmathfunctions.code.tex)\n",
      "(/Users/suzutsuki-ch/Library/Application Support/MiKTeX/texmfs/install/tex/gene\n",
      "ric/pgf/math/pgfmathfunctions.basic.code.tex)\n",
      "(/Users/suzutsuki-ch/Library/Application Support/MiKTeX/texmfs/install/tex/gene\n",
      "ric/pgf/math/pgfmathfunctions.trigonometric.code.tex)\n",
      "(/Users/suzutsuki-ch/Library/Application Support/MiKTeX/texmfs/install/tex/gene\n",
      "ric/pgf/math/pgfmathfunctions.random.code.tex)\n",
      "(/Users/suzutsuki-ch/Library/Application Support/MiKTeX/texmfs/install/tex/gene\n",
      "ric/pgf/math/pgfmathfunctions.comparison.code.tex)\n",
      "(/Users/suzutsuki-ch/Library/Application Support/MiKTeX/texmfs/install/tex/gene\n",
      "ric/pgf/math/pgfmathfunctions.base.code.tex)\n",
      "(/Users/suzutsuki-ch/Library/Application Support/MiKTeX/texmfs/install/tex/gene\n",
      "ric/pgf/math/pgfmathfunctions.round.code.tex)\n",
      "(/Users/suzutsuki-ch/Library/Application Support/MiKTeX/texmfs/install/tex/gene\n",
      "ric/pgf/math/pgfmathfunctions.misc.code.tex)\n",
      "(/Users/suzutsuki-ch/Library/Application Support/MiKTeX/texmfs/install/tex/gene\n",
      "ric/pgf/math/pgfmathfunctions.integerarithmetics.code.tex)\n",
      "(/Users/suzutsuki-ch/Library/Application Support/MiKTeX/texmfs/install/tex/gene\n",
      "ric/pgf/math/pgfmathcalc.code.tex)\n",
      "(/Users/suzutsuki-ch/Library/Application Support/MiKTeX/texmfs/install/tex/gene\n",
      "ric/pgf/math/pgfmathfloat.code.tex))\n",
      "(/Users/suzutsuki-ch/Library/Application Support/MiKTeX/texmfs/install/tex/gene\n",
      "ric/pgf/math/pgfint.code.tex)\n",
      "(/Users/suzutsuki-ch/Library/Application Support/MiKTeX/texmfs/install/tex/gene\n",
      "ric/pgf/basiclayer/pgfcorepoints.code.tex)\n",
      "(/Users/suzutsuki-ch/Library/Application Support/MiKTeX/texmfs/install/tex/gene\n",
      "ric/pgf/basiclayer/pgfcorepathconstruct.code.tex)\n",
      "(/Users/suzutsuki-ch/Library/Application Support/MiKTeX/texmfs/install/tex/gene\n",
      "ric/pgf/basiclayer/pgfcorepathusage.code.tex)\n",
      "(/Users/suzutsuki-ch/Library/Application Support/MiKTeX/texmfs/install/tex/gene\n",
      "ric/pgf/basiclayer/pgfcorescopes.code.tex)\n",
      "(/Users/suzutsuki-ch/Library/Application Support/MiKTeX/texmfs/install/tex/gene\n",
      "ric/pgf/basiclayer/pgfcoregraphicstate.code.tex)\n",
      "(/Users/suzutsuki-ch/Library/Application Support/MiKTeX/texmfs/install/tex/gene\n",
      "ric/pgf/basiclayer/pgfcoretransformations.code.tex)\n",
      "(/Users/suzutsuki-ch/Library/Application Support/MiKTeX/texmfs/install/tex/gene\n",
      "ric/pgf/basiclayer/pgfcorequick.code.tex)\n",
      "(/Users/suzutsuki-ch/Library/Application Support/MiKTeX/texmfs/install/tex/gene\n",
      "ric/pgf/basiclayer/pgfcoreobjects.code.tex)\n",
      "(/Users/suzutsuki-ch/Library/Application Support/MiKTeX/texmfs/install/tex/gene\n",
      "ric/pgf/basiclayer/pgfcorepathprocessing.code.tex)\n",
      "(/Users/suzutsuki-ch/Library/Application Support/MiKTeX/texmfs/install/tex/gene\n",
      "ric/pgf/basiclayer/pgfcorearrows.code.tex)\n",
      "(/Users/suzutsuki-ch/Library/Application Support/MiKTeX/texmfs/install/tex/gene\n",
      "ric/pgf/basiclayer/pgfcoreshade.code.tex)\n",
      "(/Users/suzutsuki-ch/Library/Application Support/MiKTeX/texmfs/install/tex/gene\n",
      "ric/pgf/basiclayer/pgfcoreimage.code.tex)\n",
      "(/Users/suzutsuki-ch/Library/Application Support/MiKTeX/texmfs/install/tex/gene\n",
      "ric/pgf/basiclayer/pgfcoreexternal.code.tex)\n",
      "(/Users/suzutsuki-ch/Library/Application Support/MiKTeX/texmfs/install/tex/gene\n",
      "ric/pgf/basiclayer/pgfcorelayers.code.tex)\n",
      "(/Users/suzutsuki-ch/Library/Application Support/MiKTeX/texmfs/install/tex/gene\n",
      "ric/pgf/basiclayer/pgfcoretransparency.code.tex)\n",
      "(/Users/suzutsuki-ch/Library/Application Support/MiKTeX/texmfs/install/tex/gene\n",
      "ric/pgf/basiclayer/pgfcorepatterns.code.tex)\n",
      "(/Users/suzutsuki-ch/Library/Application Support/MiKTeX/texmfs/install/tex/gene\n",
      "ric/pgf/basiclayer/pgfcorerdf.code.tex)))\n",
      "(/Users/suzutsuki-ch/Library/Application Support/MiKTeX/texmfs/install/tex/gene\n",
      "ric/pgf/modules/pgfmoduleshapes.code.tex)\n",
      "(/Users/suzutsuki-ch/Library/Application Support/MiKTeX/texmfs/install/tex/gene\n",
      "ric/pgf/modules/pgfmoduleplot.code.tex)\n",
      "(/Users/suzutsuki-ch/Library/Application Support/MiKTeX/texmfs/install/tex/late\n",
      "x/pgf/compatibility/pgfcomp-version-0-65.sty"
     ]
    },
    {
     "name": "stderr",
     "output_type": "stream",
     "text": [
      "Fontconfig warning: ignoring UTF-8: not a valid region tag\n"
     ]
    },
    {
     "name": "stdout",
     "output_type": "stream",
     "text": [
      ")\n",
      "(/Users/suzutsuki-ch/Library/Application Support/MiKTeX/texmfs/install/tex/late\n",
      "x/pgf/compatibility/pgfcomp-version-1-18.sty))\n",
      "(/Users/suzutsuki-ch/Library/Application Support/MiKTeX/texmfs/install/tex/late\n",
      "x/pgf/utilities/pgffor.sty\n",
      "(/Users/suzutsuki-ch/Library/Application Support/MiKTeX/texmfs/install/tex/late\n",
      "x/pgf/utilities/pgfkeys.sty\n",
      "(/Users/suzutsuki-ch/Library/Application Support/MiKTeX/texmfs/install/tex/gene\n",
      "ric/pgf/utilities/pgfkeys.code.tex))\n",
      "(/Users/suzutsuki-ch/Library/Application Support/MiKTeX/texmfs/install/tex/late\n",
      "x/pgf/math/pgfmath.sty\n",
      "(/Users/suzutsuki-ch/Library/Application Support/MiKTeX/texmfs/install/tex/gene\n",
      "ric/pgf/math/pgfmath.code.tex))\n",
      "(/Users/suzutsuki-ch/Library/Application Support/MiKTeX/texmfs/install/tex/gene\n",
      "ric/pgf/utilities/pgffor.code.tex))\n",
      "(/Users/suzutsuki-ch/Library/Application Support/MiKTeX/texmfs/install/tex/gene\n",
      "ric/pgf/frontendlayer/tikz/tikz.code.tex\n",
      "(/Users/suzutsuki-ch/Library/Application Support/MiKTeX/texmfs/install/tex/gene\n",
      "ric/pgf/libraries/pgflibraryplothandlers.code.tex)\n",
      "(/Users/suzutsuki-ch/Library/Application Support/MiKTeX/texmfs/install/tex/gene\n",
      "ric/pgf/modules/pgfmodulematrix.code.tex)\n",
      "(/Users/suzutsuki-ch/Library/Application Support/MiKTeX/texmfs/install/tex/gene\n",
      "ric/pgf/frontendlayer/tikz/libraries/tikzlibrarytopaths.code.tex)))\n",
      "(/Users/suzutsuki-ch/Library/Application Support/MiKTeX/texmfs/install/tex/late\n",
      "x/mahjong/mahjong.sty\n",
      "(/Users/suzutsuki-ch/Library/Application Support/MiKTeX/texmfs/install/tex/late\n",
      "x/l3kernel/expl3.sty\n",
      "(/Users/suzutsuki-ch/Library/Application Support/MiKTeX/texmfs/install/tex/late\n",
      "x/l3backend/l3backend-xetex.def))\n",
      "(/Users/suzutsuki-ch/Library/Application Support/MiKTeX/texmfs/install/tex/late\n",
      "x/l3packages/xparse/xparse.sty)\n",
      "(/Users/suzutsuki-ch/Library/Application Support/MiKTeX/texmfs/install/tex/late\n",
      "x/l3packages/l3keys2e/l3keys2e.sty)\n",
      "(/Users/suzutsuki-ch/Library/Application Support/MiKTeX/texmfs/install/tex/late\n",
      "x/stackengine/stackengine.sty\n",
      "(/Users/suzutsuki-ch/Library/Application Support/MiKTeX/texmfs/install/tex/late\n",
      "x/etoolbox/etoolbox.sty)\n",
      "(/Users/suzutsuki-ch/Library/Application Support/MiKTeX/texmfs/install/tex/late\n",
      "x/listofitems/listofitems.sty\n",
      "(/Users/suzutsuki-ch/Library/Application Support/MiKTeX/texmfs/install/tex/gene\n",
      "ric/listofitems/listofitems.tex))\n",
      "(/Users/suzutsuki-ch/Library/Application Support/MiKTeX/texmfs/install/tex/late\n",
      "x/tools/calc.sty))) (Mahjong.aux)\n",
      "(/Users/suzutsuki-ch/Library/Application Support/MiKTeX/texmfs/install/tex/late\n",
      "x/base/ts1cmr.fd) [1] (Mahjong.aux) )\n",
      "(see the transcript file for additional information)\n",
      "Output written on Mahjong.pdf (1 page).\n",
      "Transcript written on Mahjong.log.\n"
     ]
    },
    {
     "data": {
      "text/plain": [
       "0"
      ]
     },
     "execution_count": 10,
     "metadata": {},
     "output_type": "execute_result"
    }
   ],
   "source": [
    "os.system('\"/Users/suzutsuki-ch/bin/xelatex\" -interaction=nonstopmode LaTeX/Mahjong.tex')"
   ]
  },
  {
   "cell_type": "markdown",
   "metadata": {},
   "source": [
    "## More Mahjong"
   ]
  },
  {
   "cell_type": "code",
   "execution_count": 3,
   "metadata": {},
   "outputs": [],
   "source": [
    "import numpy as np"
   ]
  },
  {
   "cell_type": "code",
   "execution_count": 4,
   "metadata": {},
   "outputs": [],
   "source": [
    "from mahjong.hand_calculating.hand import HandCalculator\n",
    "from mahjong.tile import TilesConverter\n",
    "from mahjong.hand_calculating.hand_config import HandConfig\n",
    "from mahjong.meld import Meld"
   ]
  },
  {
   "cell_type": "code",
   "execution_count": 5,
   "metadata": {},
   "outputs": [],
   "source": [
    "calculator = HandCalculator()\n",
    "\n",
    "# we had to use all 14 tiles in that array\n",
    "tiles = TilesConverter.string_to_136_array(man='22444', pin='333567', sou='444')\n",
    "win_tile = TilesConverter.string_to_136_array(man='2')[0]\n",
    "\n",
    "result = calculator.estimate_hand_value(tiles, win_tile)"
   ]
  },
  {
   "cell_type": "code",
   "execution_count": 6,
   "metadata": {},
   "outputs": [
    {
     "name": "stdout",
     "output_type": "stream",
     "text": [
      "3 50\n",
      "6400\n",
      "[Tanyao, San Ankou]\n",
      "{'fu': 30, 'reason': 'base'}\n",
      "{'fu': 4, 'reason': 'closed_pon'}\n",
      "{'fu': 4, 'reason': 'closed_pon'}\n",
      "{'fu': 4, 'reason': 'closed_pon'}\n",
      "{'fu': 2, 'reason': 'pair_wait'}\n"
     ]
    }
   ],
   "source": [
    "print(result.han, result.fu)\n",
    "print(result.cost['main'])\n",
    "print(result.yaku)\n",
    "for fu_item in result.fu_details:\n",
    "    print(fu_item)"
   ]
  },
  {
   "cell_type": "code",
   "execution_count": 15,
   "metadata": {},
   "outputs": [
    {
     "name": "stdout",
     "output_type": "stream",
     "text": [
      "s\n",
      "z\n",
      "p\n",
      "s\n",
      "m\n"
     ]
    }
   ],
   "source": [
    "S = np.array(list(\"123426567z12p13s13m\"))\n",
    "sig_index = [0]+[i for i in range(len(S)) if ord(S[i]) in [115, 112, 109, 122]]\n",
    "\n",
    "# [man, sou, pin, honor]\n",
    "TenhouArr = [[],[],[],[]]\n",
    "man = []\n",
    "sou = []\n",
    "pin = []\n",
    "zi = []\n",
    "\n",
    "for i in range(1,len(sig_index)):\n",
    "    print(S[sig_index[i]])\n",
    "    if S[sig_index[i]] == 'm':\n",
    "        m = S[sig_index[i-1]+1 : sig_index[i]]\n",
    "        man += list(m)\n",
    "\n",
    "    if S[sig_index[i]] == 'p':\n",
    "        p = S[sig_index[i-1]+1 : sig_index[i]]\n",
    "        pin += list(p)\n",
    "\n",
    "    if S[sig_index[i]] == 's':\n",
    "        s = S[sig_index[i-1]+1 : sig_index[i]]\n",
    "        sou += list(s)\n",
    "\n",
    "    if S[sig_index[i]] == 'z':\n",
    "        z = S[sig_index[i-1]+1 : sig_index[i]]\n",
    "        zi += list(z)\n",
    "\n",
    "man.sort()\n",
    "sou.sort()\n",
    "pin.sort()\n",
    "zi.sort()\n",
    "        \n",
    "man = \"\".join(man)\n",
    "sou = \"\".join(sou)\n",
    "pin = \"\".join(pin)\n",
    "zi = \"\".join(zi)\n",
    "\n",
    "TenhouArr = [man, sou, pin, zi]\n",
    "    \n"
   ]
  },
  {
   "cell_type": "code",
   "execution_count": 16,
   "metadata": {},
   "outputs": [],
   "source": [
    "from mahjong.shanten import Shanten"
   ]
  },
  {
   "cell_type": "code",
   "execution_count": 17,
   "metadata": {},
   "outputs": [
    {
     "data": {
      "text/plain": [
       "['13', '122334', '12', '5667']"
      ]
     },
     "execution_count": 17,
     "metadata": {},
     "output_type": "execute_result"
    }
   ],
   "source": [
    "TenhouArr"
   ]
  },
  {
   "cell_type": "code",
   "execution_count": 18,
   "metadata": {},
   "outputs": [],
   "source": [
    "# we had to use all 14 tiles in that array\n",
    "shanten = Shanten()\n",
    "tiles = TilesConverter.string_to_34_array(man=TenhouArr[0], sou=TenhouArr[1], pin=TenhouArr[2], honors=TenhouArr[3])\n",
    "result = shanten.calculate_shanten(tiles)"
   ]
  },
  {
   "cell_type": "code",
   "execution_count": 19,
   "metadata": {},
   "outputs": [
    {
     "name": "stdout",
     "output_type": "stream",
     "text": [
      "1\n"
     ]
    }
   ],
   "source": [
    "print(result)"
   ]
  },
  {
   "cell_type": "code",
   "execution_count": 25,
   "metadata": {},
   "outputs": [],
   "source": [
    "from YuiAux import TenhouGenerate\n",
    "\n",
    "TenhouArr = TenhouGenerate(\"12342s656712p13s13m\")\n",
    "tiles = TilesConverter.string_to_34_array(man=TenhouArr[0], sou=TenhouArr[1], pin=TenhouArr[2], honors=TenhouArr[3])\n",
    "result = shanten.calculate_shanten(tiles)"
   ]
  },
  {
   "cell_type": "code",
   "execution_count": 26,
   "metadata": {},
   "outputs": [
    {
     "data": {
      "text/plain": [
       "14"
      ]
     },
     "execution_count": 26,
     "metadata": {},
     "output_type": "execute_result"
    }
   ],
   "source": [
    "np.sum([len(TenhouArr[i]) for i in range(0,4)])"
   ]
  },
  {
   "cell_type": "code",
   "execution_count": 27,
   "metadata": {},
   "outputs": [
    {
     "data": {
      "text/plain": [
       "['13', '122334', '125667', '']"
      ]
     },
     "execution_count": 27,
     "metadata": {},
     "output_type": "execute_result"
    }
   ],
   "source": [
    "TenhouArr"
   ]
  },
  {
   "cell_type": "code",
   "execution_count": null,
   "metadata": {},
   "outputs": [],
   "source": []
  }
 ],
 "metadata": {
  "kernelspec": {
   "display_name": "SuzuProj",
   "language": "python",
   "name": "python3"
  },
  "language_info": {
   "codemirror_mode": {
    "name": "ipython",
    "version": 3
   },
   "file_extension": ".py",
   "mimetype": "text/x-python",
   "name": "python",
   "nbconvert_exporter": "python",
   "pygments_lexer": "ipython3",
   "version": "3.10.9"
  },
  "orig_nbformat": 4
 },
 "nbformat": 4,
 "nbformat_minor": 2
}
